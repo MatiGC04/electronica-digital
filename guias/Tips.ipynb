{
 "cells": [
  {
   "cell_type": "markdown",
   "id": "243a9838",
   "metadata": {},
   "source": [
    "# Guía Básica para Programar en Verilog\n",
    "\n",
    "## Estructura Básica de un Proyecto Verilog\n",
    "\n",
    "### 1. Crear el archivo principal del módulo (.v)\n",
    "\n",
    "El archivo principal contiene la descripción de tu diseño digital. Debe tener la extensión `.v`.\n",
    "\n",
    "**Ejemplo (`and_gate.v`):**\n",
    "\n",
    "```verilog\n",
    "module and_gate(\n",
    "    input wire A,\n",
    "    input wire B,\n",
    "    output wire X\n",
    ");\n",
    "    assign X = A & B;  // Operación AND entre A y B\n",
    "endmodule\n"
   ]
  },
  {
   "cell_type": "markdown",
   "id": "097560fe",
   "metadata": {},
   "source": [
    "### Crear el archivo de testbench (_tb.v)\n",
    "El testbench es un módulo Verilog que prueba tu diseño mediante simulación.\n",
    "\n",
    "#### Estructura básica (and_gate_tb.v):"
   ]
  },
  {
   "cell_type": "markdown",
   "id": "56153d17",
   "metadata": {},
   "source": [
    "```verilog\n",
    "/*\n",
    " * Testbench para [nombre del módulo]\n",
    " *\n",
    " * Un testbench es un módulo Verilog que:\n",
    " * 1. Genera estímulos (valores de entrada) para el circuito bajo prueba\n",
    " * 2. Monitorea las salidas\n",
    " * 3. No tiene entradas/salidas reales - es solo para simulación\n",
    " */\n",
    "\n",
    "// --- PARTE FIJA (SIEMPRE USAR) ---\n",
    "`default_nettype none\n",
    "`timescale 100 ns / 10 ns  // Unidad de tiempo / precisión\n",
    "\n",
    "module [nombre_modulo]_tb();\n",
    "\n",
    "// --- PARTE FIJA (SIEMPRE USAR) ---\n",
    "// Declaración de señales de entrada (reg) y salida (wire)\n",
    "reg [señales_de_entrada];\n",
    "wire [señales_de_salida];\n",
    "\n",
    "// Instanciación del módulo bajo prueba\n",
    "[nombre_modulo] UUT (\n",
    "    .[puerto1]([señal1]),\n",
    "    .[puerto2]([señal2]),\n",
    "    // ...\n",
    ");\n",
    "\n",
    "// --- PARTE FIJA (SIEMPRE USAR) ---\n",
    "initial begin\n",
    "    $dumpfile(\"[nombre_modulo]_tb.vcd\");  // Archivo de salida para la simulación\n",
    "    $dumpvars(0, [nombre_modulo]_tb);    // Variables a monitorear\n",
    "\n",
    "    // Inicialización de entradas\n",
    "    [señal1] = 0;\n",
    "    [señal2] = 0;\n",
    "    // ...\n",
    "\n",
    "    // Espera inicial para estabilización\n",
    "    #10;\n",
    "\n",
    "    // --- AQUÍ VAN LOS CASOS DE PRUEBA ---\n",
    "    // Ejemplo:\n",
    "    [señal1] = 1; [señal2] = 0;\n",
    "    #10;\n",
    "\n",
    "    [señal1] = 1; [señal2] = 1;\n",
    "    #10;\n",
    "\n",
    "    // --- PARTE FIJA (SIEMPRE USAR) ---\n",
    "    // Finalización de simulación\n",
    "    $finish;\n",
    "end\n",
    "\n",
    "endmodule\n"
   ]
  },
  {
   "cell_type": "markdown",
   "id": "e982f171",
   "metadata": {},
   "source": [
    "## Flujo de Trabajo con la FPGA EDU-CIAA\n",
    "#### 1- Inicializar proyecto\n",
    "```bash\n",
    "apio init --board edu-ciaa-fpga\n",
    "\n"
   ]
  },
  {
   "cell_type": "markdown",
   "id": "8386f5c6",
   "metadata": {},
   "source": [
    "#### 2- Agregar tus archivos:\n",
    "\n",
    "Coloca tus archivos .v y _tb.v en el directorio src\n",
    "\n",
    "Edita el archivo apio.ini para especificar el módulo principal\n",
    "#### 3- Verificar\n",
    "```bash\n",
    "apio verify\n"
   ]
  },
  {
   "cell_type": "markdown",
   "id": "bffe429f",
   "metadata": {},
   "source": [
    "#### 4- Simular\n",
    "```bash\n",
    "apio sim"
   ]
  }
 ],
 "metadata": {
  "language_info": {
   "name": "python"
  }
 },
 "nbformat": 4,
 "nbformat_minor": 5
}
