{
 "cells": [
  {
   "cell_type": "markdown",
   "id": "243a9838",
   "metadata": {},
   "source": [
    "###### Copyright (c) 2025 MatiGC04 - GitHub: [https://github.com/MatiGC04](https://github.com/MatiGC04)\n",
    "\n",
    "# Guía Básica para Programar en Verilog\n",
    "\n",
    "## Estructura Básica de un Proyecto Verilog\n",
    "\n",
    "### 1. Crear el archivo principal del módulo (.v)\n",
    "\n",
    "El archivo principal contiene la descripción de tu diseño digital. Debe tener la extensión `.v`.\n",
    "\n",
    "**Ejemplo (`and_gate.v`):**\n",
    "\n",
    "```verilog\n",
    "module and_gate(\n",
    "    input wire A,\n",
    "    input wire B,\n",
    "    output wire X\n",
    ");\n",
    "    assign X = A & B;  // Operación AND entre A y B\n",
    "endmodule\n"
   ]
  },
  {
   "cell_type": "markdown",
   "id": "097560fe",
   "metadata": {},
   "source": [
    "### Crear el archivo de testbench (_tb.v)\n",
    "El testbench es un módulo Verilog que prueba tu diseño mediante simulación.\n",
    "\n",
    "#### Estructura básica (and_gate_tb.v):"
   ]
  },
  {
   "cell_type": "markdown",
   "id": "56153d17",
   "metadata": {},
   "source": [
    "```verilog\n",
    "/*\n",
    " * Testbench para [nombre del módulo]\n",
    " *\n",
    " * Un testbench es un módulo Verilog que:\n",
    " * 1. Genera estímulos (valores de entrada) para el circuito bajo prueba\n",
    " * 2. Monitorea las salidas\n",
    " * 3. No tiene entradas/salidas reales - es solo para simulación\n",
    " */\n",
    "\n",
    "// --- PARTE FIJA (SIEMPRE USAR) ---\n",
    "`default_nettype none\n",
    "`timescale 100 ns / 10 ns  // Unidad de tiempo / precisión\n",
    "\n",
    "module [nombre_modulo]_tb();\n",
    "\n",
    "// --- PARTE FIJA (SIEMPRE USAR) ---\n",
    "// Declaración de señales de entrada (reg) y salida (wire)\n",
    "reg [señales_de_entrada];\n",
    "wire [señales_de_salida];\n",
    "\n",
    "// Instanciación del módulo bajo prueba\n",
    "[nombre_modulo] UUT (\n",
    "    .[puerto1]([señal1]),\n",
    "    .[puerto2]([señal2]),\n",
    "    // ...\n",
    ");\n",
    "\n",
    "// --- PARTE FIJA (SIEMPRE USAR) ---\n",
    "initial begin\n",
    "    $dumpfile(\"[nombre_modulo]_tb.vcd\");  // Archivo de salida para la simulación\n",
    "    $dumpvars(0, [nombre_modulo]_tb);    // Variables a monitorear\n",
    "\n",
    "    // Inicialización de entradas\n",
    "    [señal1] = 0;\n",
    "    [señal2] = 0;\n",
    "    // ...\n",
    "\n",
    "    // Espera inicial para estabilización\n",
    "    #10;\n",
    "\n",
    "    // --- AQUÍ VAN LOS CASOS DE PRUEBA ---\n",
    "    // Ejemplo:\n",
    "    [señal1] = 1; [señal2] = 0;\n",
    "    #10;\n",
    "\n",
    "    [señal1] = 1; [señal2] = 1;\n",
    "    #10;\n",
    "\n",
    "    // --- PARTE FIJA (SIEMPRE USAR) ---\n",
    "    // Finalización de simulación\n",
    "    $finish;\n",
    "end\n",
    "\n",
    "endmodule\n"
   ]
  },
  {
   "cell_type": "markdown",
   "id": "e982f171",
   "metadata": {},
   "source": [
    "## Flujo de Trabajo con la FPGA EDU-CIAA\n",
    "#### 1- Inicializar proyecto\n",
    "```bash\n",
    "apio init --board edu-ciaa-fpga\n",
    "\n"
   ]
  },
  {
   "cell_type": "markdown",
   "id": "8386f5c6",
   "metadata": {},
   "source": [
    "#### 2- Agregar tus archivos:\n",
    "\n",
    "Coloca tus archivos .v y _tb.v en el directorio src\n",
    "\n",
    "Edita el archivo apio.ini para especificar el módulo principal\n",
    "#### 3- Verificar\n",
    "```bash\n",
    "apio verify\n"
   ]
  },
  {
   "cell_type": "markdown",
   "id": "bffe429f",
   "metadata": {},
   "source": [
    "#### 4- Simular\n",
    "```bash\n",
    "apio sim"
   ]
  },
  {
   "cell_type": "markdown",
   "id": "17bc6a3a",
   "metadata": {},
   "source": [
    "## Comparación entre `integer` y `reg` en Verilog\n",
    "\n",
    "\n",
    "### Características de `integer` y `reg`\n",
    "| **Característica**       | **`integer`**              | **`reg [N:0]`**          |\n",
    "|--------------------------|---------------------------|--------------------------|\n",
    "| **Tamaño**               | 32 bits con signo         | Especificado por el usuario (ej. `reg [5:0]`) |\n",
    "| **Uso principal**         | Operaciones enteras       | Vectores de bits explícitos |\n",
    "| **Rango**                | -2³¹ a 2³¹-1              | 0 a 2ⁿ-1 (sin signo)     |\n",
    "| **Ideal para vectores**   | No                        | Sí                       |\n",
    "\n",
    "---\n",
    "\n",
    "### Ejemplo práctico\n",
    "\n",
    "#### Uso de `integer`:\n",
    "```verilog\n",
    "integer n;\n",
    "\n",
    "initial begin\n",
    "  for (n = 0; n < 16; n = n + 1) begin\n",
    "    {A, B, C, D} = n;  // Toma los 4 bits menos significativos de `n`\n",
    "    #1;  // Espera 1 unidad de tiempo\n",
    "  end\n",
    "end"
   ]
  },
  {
   "cell_type": "markdown",
   "id": "0e70098b",
   "metadata": {},
   "source": [
    "### Uso de `reg[n:0]`:\n",
    "```verilog\n",
    "reg [5:0] n;\n",
    "\n",
    "initial begin\n",
    "  for (n = 0; n < 64; n = n + 1) begin\n",
    "    {A, B, C, D, E, F} = n;  // Asigna los 6 bits de `n` a las señales\n",
    "    #1;  // Espera 1 unidad de tiempo\n",
    "  end\n",
    "end"
   ]
  },
  {
   "cell_type": "markdown",
   "id": "14dec74f",
   "metadata": {},
   "source": [
    "## Conclusión\n",
    "En Verilog, el uso de `integer` es adecuado para operaciones enteras generales, pero no es ideal para trabajar con vectores de bits específicos debido a su tamaño fijo de 32 bits con signo. Por otro lado, `reg [N:0]` es más adecuado para representar vectores de tamaño definido, ya que permite un control explícito sobre el número de bits. Para aplicaciones donde se requiera trabajar con combinaciones binarias específicas (como en testbenches), se recomienda usar reg [N:0] para mayor claridad y precisión. ```"
   ]
  }
 ],
 "metadata": {
  "language_info": {
   "name": "python"
  }
 },
 "nbformat": 4,
 "nbformat_minor": 5
}
