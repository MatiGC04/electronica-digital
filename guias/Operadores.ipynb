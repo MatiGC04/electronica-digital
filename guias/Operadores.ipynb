{
 "cells": [
  {
   "cell_type": "markdown",
   "id": "f70be6de",
   "metadata": {},
   "source": [
    "#### Copyright (c) 2025 MatiGC04 \n",
    "GitHub: [https://github.com/MatiGC04](https://github.com/MatiGC04)\n",
    "### Operadores a nivel de bits (bit-wise)\n",
    "\n",
    "| Operador | Ej. Código verilog | Descripción      |\n",
    "|----------|--------------------|------------------|\n",
    "| &        | c = a & b;         | AND              |\n",
    "| \\|       | c = a \\| b;        | OR               |\n",
    "| ^        | c = a ^ b;         | XOR              |\n",
    "| ~        | c = ~a;            | NOT              |\n",
    "| ~&       | c = a ~& b;        | NAND             |\n",
    "| ~\\|      | c = a ~\\| b;       | NOR              |\n",
    "| ~^       | c = a ~^ b;        | XNOR             |"
   ]
  },
  {
   "cell_type": "markdown",
   "id": "61fbb4c1",
   "metadata": {},
   "source": [
    "### Operadores aritméticos\n",
    "\n",
    "| Operador | Ej. código verilog | Descripción         |\n",
    "|----------|--------------------|---------------------|\n",
    "| *        | c = a * b;         | Multiplicación      |\n",
    "| /        | c = a / b;         | División            |\n",
    "| +        | c = a + b;         | Suma de a + b       |\n",
    "| -        | c = a - b;         | Resta               |"
   ]
  },
  {
   "cell_type": "markdown",
   "id": "8f8bb6a7",
   "metadata": {},
   "source": [
    "### Otros operadores\n",
    "\n",
    "| Operador | Ej. código verilog                | Descripción                                                                 |\n",
    "|----------|-----------------------------------|-----------------------------------------------------------------------------|\n",
    "| <<       | b = a << 1;                      | Desplazamiento a la izq. de un bit                                          |\n",
    "| >>       | b = a >> 1;                      | Desplazamiento a la der. de un bit                                          |\n",
    "| ?:       | c = sel ? a : b;                 | Operador ternario: si sel es 1 entonces c = a, sino c = b                   |\n",
    "| { }      | {a, b, c} = 3'b101;              | Concatenación: Asigna una palabra a los bits individuales (a=1, b=0, c=1)   |"
   ]
  }
 ],
 "metadata": {
  "language_info": {
   "name": "python"
  }
 },
 "nbformat": 4,
 "nbformat_minor": 5
}
