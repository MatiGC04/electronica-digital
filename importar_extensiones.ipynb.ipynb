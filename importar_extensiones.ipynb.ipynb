{
 "cells": [
  {
   "cell_type": "markdown",
   "id": "7e06b022",
   "metadata": {},
   "source": [
    "# Exportar e instalar extensiones de Visual Studio Code\n",
    "\n",
    "## 1. Exportar la lista de extensiones a un archivo `.txt`\n",
    "\n",
    "Abre la terminal de Visual Studio Code y ejecuta el siguiente comando para guardar todas tus extensiones instaladas en un archivo de texto:\n",
    "\n",
    "```powershell\n",
    "code --list-extensions > C:\\Users\\matig\\Downloads\\vscode-extensions.txt\n",
    "o\n",
    "code --list-extensions > vscode-extensions.txt\n",
    "```\n",
    "\n",
    "Esto creará el archivo `vscode-extensions.txt` en tu carpeta `Downloads`, con una extensión por línea.\n",
    "\n",
    "---\n",
    "\n",
    "## 2. Instalar extensiones desde un archivo `.txt`\n",
    "\n",
    "### Opción 1: Usando PowerShell\n",
    "\n",
    "Abre la terminal de VS Code, navega a la carpeta donde está tu archivo (opcional) y ejecuta:\n",
    "\n",
    "```powershell\n",
    "Get-Content C:\\Users\\matig\\Downloads\\vscode-extensions.txt | ForEach-Object { code --install-extension $_ }\n",
    "```\n",
    "\n",
    "O si ya estás en la carpeta `Downloads`:\n",
    "\n",
    "```powershell\n",
    "Get-Content vscode-extensions.txt | ForEach-Object { code --install-extension $_ }\n",
    "```\n"
   ]
  }
 ],
 "metadata": {
  "language_info": {
   "name": "python"
  }
 },
 "nbformat": 4,
 "nbformat_minor": 5
}
