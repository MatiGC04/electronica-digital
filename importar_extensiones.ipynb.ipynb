{
 "cells": [
  {
   "cell_type": "markdown",
   "id": "7e06b022",
   "metadata": {},
   "source": [
    "###### Copyright (c) 2025 MatiGC04 - GitHub: [https://github.com/MatiGC04](https://github.com/MatiGC04)\n",
    "# ¿Cómo Exportar e instalar extensiones de Visual Studio Code?\n",
    "\n",
    "## 1. Exportar la lista de extensiones a un archivo `.txt`\n",
    "\n",
    "Abre la terminal de Visual Studio Code y ejecuta el siguiente comando para guardar todas tus extensiones instaladas en un archivo de texto:\n",
    "\n",
    "```powershell\n",
    "code --list-extensions > C:\\Users\\matig\\Downloads\\vscode-extensions.txt\n",
    "o\n",
    "code --list-extensions > vscode-extensions.txt\n",
    "```\n",
    "\n",
    "Esto creará el archivo `vscode-extensions.txt` en tu carpeta `Downloads`, con una extensión por línea.\n",
    "\n",
    "---\n",
    "\n",
    "## 2. Instalar extensiones desde un archivo `.txt`\n",
    "\n",
    "### Opción 1: Usando PowerShell\n",
    "\n",
    "Abre la terminal de VS Code, navega a la carpeta donde está tu archivo (opcional) y ejecuta:\n",
    "\n",
    "```powershell\n",
    "Get-Content C:\\Users\\matig\\Downloads\\vscode-extensions.txt | ForEach-Object { code --install-extension $_ }\n",
    "```\n",
    "\n",
    "O si ya estás en la carpeta `Downloads`:\n",
    "\n",
    "```powershell\n",
    "Get-Content vscode-extensions.txt | ForEach-Object { code --install-extension $_ }\n",
    "```\n"
   ]
  },
  {
   "cell_type": "markdown",
   "id": "c0334ab2",
   "metadata": {},
   "source": [
    "# ¿Como importar y exportar librerias de un entorno virtual'\n",
    "### 1. **Guarda las librerías en un archivo `requirements.txt`**\n",
    "\n",
    "Abre la terminal **dentro del entorno virtual** y ejecuta:\n",
    "\n",
    "```bash\n",
    "pip freeze > requirements.txt\n",
    "```\n",
    "\n",
    "Esto creará un archivo `requirements.txt` con la lista exacta de todas las librerías y versiones instaladas.\n",
    "\n",
    "---\n",
    "\n",
    "### 2. **Recrea el entorno virtual y reinstala las librerías**\n",
    "\n",
    "En otra máquina (o después), crea un nuevo entorno virtual y usa el archivo para instalar todo:\n",
    "\n",
    "```bash\n",
    "python -m venv ed_env\n",
    "ed_env\\Scripts\\activate   # En Windows\n",
    "# o\n",
    "source ed_env/bin/activate  # En Linux/Mac\n",
    "\n",
    "pip install -r requirements.txt\n",
    "```\n",
    "\n",
    "---\n",
    "\n",
    "**Resumen:**  \n",
    "- `pip freeze > requirements.txt` para guardar.\n",
    "- `pip install -r requirements.txt` para restaurar."
   ]
  }
 ],
 "metadata": {
  "language_info": {
   "name": "python"
  }
 },
 "nbformat": 4,
 "nbformat_minor": 5
}
